{
 "cells": [
  {
   "cell_type": "code",
   "execution_count": 1,
   "id": "8a2ac03a",
   "metadata": {},
   "outputs": [],
   "source": [
    "import pandas as pd"
   ]
  },
  {
   "cell_type": "code",
   "execution_count": 2,
   "id": "966b76c4",
   "metadata": {},
   "outputs": [],
   "source": [
    "df = pd.read_csv('./labels.csv')"
   ]
  },
  {
   "cell_type": "code",
   "execution_count": 3,
   "id": "f5d9272b",
   "metadata": {},
   "outputs": [
    {
     "data": {
      "text/html": [
       "<div>\n",
       "<style scoped>\n",
       "    .dataframe tbody tr th:only-of-type {\n",
       "        vertical-align: middle;\n",
       "    }\n",
       "\n",
       "    .dataframe tbody tr th {\n",
       "        vertical-align: top;\n",
       "    }\n",
       "\n",
       "    .dataframe thead th {\n",
       "        text-align: right;\n",
       "    }\n",
       "</style>\n",
       "<table border=\"1\" class=\"dataframe\">\n",
       "  <thead>\n",
       "    <tr style=\"text-align: right;\">\n",
       "      <th></th>\n",
       "      <th>id</th>\n",
       "      <th>gender</th>\n",
       "      <th>age_group</th>\n",
       "      <th>race</th>\n",
       "      <th>body_shape</th>\n",
       "    </tr>\n",
       "  </thead>\n",
       "  <tbody>\n",
       "    <tr>\n",
       "      <th>0</th>\n",
       "      <td>00001_00</td>\n",
       "      <td>woman</td>\n",
       "      <td>twenties</td>\n",
       "      <td>white</td>\n",
       "      <td>average</td>\n",
       "    </tr>\n",
       "    <tr>\n",
       "      <th>1</th>\n",
       "      <td>06679_00</td>\n",
       "      <td>woman</td>\n",
       "      <td>twenties</td>\n",
       "      <td>white</td>\n",
       "      <td>average</td>\n",
       "    </tr>\n",
       "    <tr>\n",
       "      <th>2</th>\n",
       "      <td>00006_00</td>\n",
       "      <td>woman</td>\n",
       "      <td>twenties</td>\n",
       "      <td>white</td>\n",
       "      <td>slim</td>\n",
       "    </tr>\n",
       "    <tr>\n",
       "      <th>3</th>\n",
       "      <td>06749_00</td>\n",
       "      <td>woman</td>\n",
       "      <td>twenties</td>\n",
       "      <td>white</td>\n",
       "      <td>slim</td>\n",
       "    </tr>\n",
       "    <tr>\n",
       "      <th>4</th>\n",
       "      <td>07212_00</td>\n",
       "      <td>woman</td>\n",
       "      <td>twenties</td>\n",
       "      <td>white</td>\n",
       "      <td>slim</td>\n",
       "    </tr>\n",
       "    <tr>\n",
       "      <th>...</th>\n",
       "      <td>...</td>\n",
       "      <td>...</td>\n",
       "      <td>...</td>\n",
       "      <td>...</td>\n",
       "      <td>...</td>\n",
       "    </tr>\n",
       "    <tr>\n",
       "      <th>13681</th>\n",
       "      <td>12193_00</td>\n",
       "      <td>woman</td>\n",
       "      <td>twenties</td>\n",
       "      <td>white</td>\n",
       "      <td>slim</td>\n",
       "    </tr>\n",
       "    <tr>\n",
       "      <th>13682</th>\n",
       "      <td>12690_00</td>\n",
       "      <td>woman</td>\n",
       "      <td>thirties</td>\n",
       "      <td>white</td>\n",
       "      <td>maternity</td>\n",
       "    </tr>\n",
       "    <tr>\n",
       "      <th>13683</th>\n",
       "      <td>14152_00</td>\n",
       "      <td>woman</td>\n",
       "      <td>twenties</td>\n",
       "      <td>white</td>\n",
       "      <td>slim</td>\n",
       "    </tr>\n",
       "    <tr>\n",
       "      <th>13684</th>\n",
       "      <td>14243_00</td>\n",
       "      <td>woman</td>\n",
       "      <td>thirties</td>\n",
       "      <td>white</td>\n",
       "      <td>full-figured</td>\n",
       "    </tr>\n",
       "    <tr>\n",
       "      <th>13685</th>\n",
       "      <td>14381_00</td>\n",
       "      <td>man</td>\n",
       "      <td>thirties</td>\n",
       "      <td>brunette</td>\n",
       "      <td>unknown</td>\n",
       "    </tr>\n",
       "  </tbody>\n",
       "</table>\n",
       "<p>13686 rows × 5 columns</p>\n",
       "</div>"
      ],
      "text/plain": [
       "             id gender age_group      race    body_shape\n",
       "0      00001_00  woman  twenties     white       average\n",
       "1      06679_00  woman  twenties     white       average\n",
       "2      00006_00  woman  twenties     white          slim\n",
       "3      06749_00  woman  twenties     white          slim\n",
       "4      07212_00  woman  twenties     white          slim\n",
       "...         ...    ...       ...       ...           ...\n",
       "13681  12193_00  woman  twenties     white          slim\n",
       "13682  12690_00  woman  thirties     white     maternity\n",
       "13683  14152_00  woman  twenties     white          slim\n",
       "13684  14243_00  woman  thirties     white  full-figured\n",
       "13685  14381_00    man  thirties  brunette       unknown\n",
       "\n",
       "[13686 rows x 5 columns]"
      ]
     },
     "execution_count": 3,
     "metadata": {},
     "output_type": "execute_result"
    }
   ],
   "source": [
    "df"
   ]
  },
  {
   "cell_type": "code",
   "execution_count": 6,
   "id": "1b21b454",
   "metadata": {},
   "outputs": [],
   "source": [
    "unique_age = df['age_group'].unique()"
   ]
  },
  {
   "cell_type": "code",
   "execution_count": 8,
   "id": "e411a802",
   "metadata": {},
   "outputs": [
    {
     "data": {
      "text/plain": [
       "array(['twenties', 'thirties', 'forties', 'woman', 'thorties',\n",
       "       'tthirties', 'twnetis', 'twwenties'], dtype=object)"
      ]
     },
     "execution_count": 8,
     "metadata": {},
     "output_type": "execute_result"
    }
   ],
   "source": [
    "unique_age"
   ]
  },
  {
   "cell_type": "code",
   "execution_count": 9,
   "id": "6f1d1332",
   "metadata": {},
   "outputs": [
    {
     "data": {
      "text/plain": [
       "array(['woman', 'woman.', 'man'], dtype=object)"
      ]
     },
     "execution_count": 9,
     "metadata": {},
     "output_type": "execute_result"
    }
   ],
   "source": [
    "unique_sex = df['gender'].unique()\n",
    "unique_sex"
   ]
  },
  {
   "cell_type": "code",
   "execution_count": 10,
   "id": "29dca7cb",
   "metadata": {},
   "outputs": [
    {
     "data": {
      "text/plain": [
       "array(['average', 'slim', 'maternity', 'full-figured', 'plus-size',\n",
       "       'full-figures'], dtype=object)"
      ]
     },
     "execution_count": 10,
     "metadata": {},
     "output_type": "execute_result"
    }
   ],
   "source": [
    "unique_body_shape = df['body_shape'].unique()\n",
    "unique_body_shape"
   ]
  },
  {
   "cell_type": "code",
   "execution_count": 11,
   "id": "e58c710f",
   "metadata": {},
   "outputs": [],
   "source": [
    "ids = df[df['age_group'] == 'woman']['id']\n"
   ]
  },
  {
   "cell_type": "code",
   "execution_count": 12,
   "id": "5a61f03d",
   "metadata": {},
   "outputs": [
    {
     "data": {
      "text/plain": [
       "10833    13518_00\n",
       "10834    14411_00\n",
       "Name: id, dtype: object"
      ]
     },
     "execution_count": 12,
     "metadata": {},
     "output_type": "execute_result"
    }
   ],
   "source": [
    "ids"
   ]
  },
  {
   "cell_type": "code",
   "execution_count": null,
   "id": "b0a67c7e",
   "metadata": {},
   "outputs": [],
   "source": []
  }
 ],
 "metadata": {
  "kernelspec": {
   "display_name": "env",
   "language": "python",
   "name": "python3"
  },
  "language_info": {
   "codemirror_mode": {
    "name": "ipython",
    "version": 3
   },
   "file_extension": ".py",
   "mimetype": "text/x-python",
   "name": "python",
   "nbconvert_exporter": "python",
   "pygments_lexer": "ipython3",
   "version": "3.12.7"
  }
 },
 "nbformat": 4,
 "nbformat_minor": 5
}
