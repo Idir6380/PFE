{
 "cells": [
  {
   "cell_type": "code",
   "execution_count": 34,
   "id": "1344c11d",
   "metadata": {},
   "outputs": [
    {
     "name": "stdout",
     "output_type": "stream",
     "text": [
      "33\n",
      "person_240:3\n",
      "person_236:2\n",
      "person_237:2\n",
      "person_238:2\n",
      "person_242:2\n",
      "person_245:2\n",
      "person_249:2\n",
      "person_250:2\n",
      "person_251:2\n",
      "person_254:2\n",
      "person_256:2\n",
      "person_257:2\n",
      "person_258:2\n",
      "person_259:2\n",
      "person_260:2\n",
      "person_261:2\n",
      "person_262:2\n",
      "person_263:2\n",
      "person_264:2\n",
      "person_267:2\n",
      "person_268:2\n",
      "person_269:2\n",
      "person_270:2\n",
      "person_273:2\n",
      "person_275:2\n",
      "person_279:2\n",
      "person_281:2\n",
      "person_282:2\n",
      "person_283:2\n",
      "person_284:2\n"
     ]
    }
   ],
   "source": [
    "import os\n",
    "\n",
    "def count_files(path):\n",
    "    total_files = 0\n",
    "    for _, _, files in os.walk(path):\n",
    "        total_files += len([f for f in files if not f.startswith('.')])  # ignore fichiers cachés\n",
    "    return total_files\n",
    "\n",
    "# Chemin vers le dossier principal\n",
    "base_path = './group_outliers5'\n",
    "\n",
    "# Liste des sous-dossiers qui commencent par \"person\"\n",
    "folders = [f for f in os.listdir(base_path) if f.startswith('person') and os.path.isdir(os.path.join(base_path, f))]\n",
    "print(len(os.listdir(base_path)))\n",
    "# Création d'une liste (dossier, nombre_de_fichiers)\n",
    "folder_counts = []\n",
    "for folder in folders:\n",
    "    full_path = os.path.join(base_path, folder)\n",
    "    file_count = count_files(full_path)\n",
    "    folder_counts.append((folder, file_count))\n",
    "\n",
    "# Trie par nombre de fichiers décroissant\n",
    "folder_counts.sort(key=lambda x: x[1], reverse=True)\n",
    "\n",
    "# Affichage\n",
    "for folder, count in folder_counts:\n",
    "    \n",
    "    print(f\"{folder}:{count}\")\n"
   ]
  },
  {
   "cell_type": "code",
   "execution_count": null,
   "id": "6a321291",
   "metadata": {},
   "outputs": [],
   "source": []
  }
 ],
 "metadata": {
  "kernelspec": {
   "display_name": "env",
   "language": "python",
   "name": "python3"
  },
  "language_info": {
   "codemirror_mode": {
    "name": "ipython",
    "version": 3
   },
   "file_extension": ".py",
   "mimetype": "text/x-python",
   "name": "python",
   "nbconvert_exporter": "python",
   "pygments_lexer": "ipython3",
   "version": "3.12.7"
  }
 },
 "nbformat": 4,
 "nbformat_minor": 5
}
