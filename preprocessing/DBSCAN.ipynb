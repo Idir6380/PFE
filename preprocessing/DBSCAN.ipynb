{
 "cells": [
  {
   "cell_type": "code",
   "execution_count": 1,
   "id": "a48b3d7a",
   "metadata": {},
   "outputs": [
    {
     "name": "stderr",
     "output_type": "stream",
     "text": [
      "Extracting embeddings: 100%|██████████| 829/829 [04:52<00:00,  2.84it/s]\n"
     ]
    }
   ],
   "source": [
    "import os\n",
    "import shutil\n",
    "import torch\n",
    "import numpy as np\n",
    "from tqdm import tqdm\n",
    "from PIL import Image\n",
    "from facenet_pytorch import InceptionResnetV1, MTCNN\n",
    "from sklearn.cluster import DBSCAN, HDBSCAN\n",
    "\n",
    "# Path to dataset\n",
    "dataset_dir = './group_outliers5/unknown/'\n",
    "\n",
    "\n",
    "# Load models\n",
    "mtcnn = MTCNN(image_size=170, margin=0)\n",
    "model = InceptionResnetV1(pretrained='vggface2').eval()\n",
    "\n",
    "# Collect image paths\n",
    "image_paths = [os.path.join(dataset_dir, f) for f in os.listdir(dataset_dir) if f.lower().endswith(('.jpg', '.png', '.jpeg'))]\n",
    "\n",
    "# Extract embeddings\n",
    "embeddings = []\n",
    "valid_image_paths = []\n",
    "\n",
    "for path in tqdm(image_paths, desc=\"Extracting embeddings\"):\n",
    "    try:\n",
    "        img = Image.open(path)\n",
    "        face = mtcnn(img)\n",
    "        if face is not None:\n",
    "            with torch.no_grad():\n",
    "                emb = model(face.unsqueeze(0)).numpy().flatten()\n",
    "                embeddings.append(emb)\n",
    "                valid_image_paths.append(path)\n",
    "    except Exception as e:\n",
    "        print(f\"Error with {path}: {e}\")\n",
    "\n",
    "embeddings = np.array(embeddings)\n"
   ]
  },
  {
   "cell_type": "code",
   "execution_count": 17,
   "id": "0ad58727",
   "metadata": {},
   "outputs": [
    {
     "name": "stdout",
     "output_type": "stream",
     "text": [
      "Found 22 clusters.\n"
     ]
    }
   ],
   "source": [
    "# Normalize embeddings\n",
    "from sklearn.preprocessing import normalize\n",
    "\n",
    "embeddings_norm = normalize(embeddings)\n",
    "\n",
    "clusterer = DBSCAN(\n",
    "    # eps=0.6,\n",
    "    # min_samples=4,\n",
    "    # eps=0.6,\n",
    "    # min_samples=2,\n",
    "    \n",
    "    \n",
    "    #best\n",
    "    # eps=0.65,\n",
    "    # min_samples=2, \n",
    "    eps=0.68,\n",
    "    min_samples=2,        \n",
    "    metric='euclidean',\n",
    ")\n",
    "\n",
    "labels = clusterer.fit_predict(embeddings_norm)\n",
    "\n",
    "n_clusters = len(set(labels)) - (1 if -1 in labels else 0)\n",
    "print(f\"Found {n_clusters} clusters.\")"
   ]
  },
  {
   "cell_type": "code",
   "execution_count": 18,
   "id": "0dae60a0",
   "metadata": {},
   "outputs": [],
   "source": [
    "output_dir = './group_outliers5/groups'\n",
    "os.makedirs(output_dir, exist_ok=True)"
   ]
  },
  {
   "cell_type": "code",
   "execution_count": 19,
   "id": "7aad2960",
   "metadata": {},
   "outputs": [],
   "source": [
    "from collections import defaultdict\n",
    "\n",
    "cluster_map = defaultdict(list)\n",
    "for path, label in zip(valid_image_paths, labels):\n",
    "    cluster_map[label].append(path)\n",
    "\n",
    "# Save grouped images into folders\n",
    "for label, paths in cluster_map.items():\n",
    "    folder_name = f\"person_{label}\" if label != -1 else \"unknown\"\n",
    "    cluster_folder = os.path.join(output_dir, folder_name)\n",
    "    os.makedirs(cluster_folder, exist_ok=True)\n",
    "    \n",
    "    for src_path in paths:\n",
    "        filename = os.path.basename(src_path)\n",
    "        dst_path = os.path.join(cluster_folder, filename)\n",
    "        shutil.copy2(src_path, dst_path)"
   ]
  },
  {
   "cell_type": "code",
   "execution_count": null,
   "id": "ac38b42e",
   "metadata": {},
   "outputs": [],
   "source": []
  }
 ],
 "metadata": {
  "kernelspec": {
   "display_name": "env",
   "language": "python",
   "name": "python3"
  },
  "language_info": {
   "codemirror_mode": {
    "name": "ipython",
    "version": 3
   },
   "file_extension": ".py",
   "mimetype": "text/x-python",
   "name": "python",
   "nbconvert_exporter": "python",
   "pygments_lexer": "ipython3",
   "version": "3.12.7"
  }
 },
 "nbformat": 4,
 "nbformat_minor": 5
}
